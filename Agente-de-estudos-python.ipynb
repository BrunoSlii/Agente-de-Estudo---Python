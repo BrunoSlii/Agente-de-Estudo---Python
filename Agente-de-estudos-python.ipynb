{
  "nbformat": 4,
  "nbformat_minor": 0,
  "metadata": {
    "colab": {
      "provenance": []
    },
    "kernelspec": {
      "name": "python3",
      "display_name": "Python 3"
    },
    "language_info": {
      "name": "python"
    }
  },
  "cells": [
    {
      "cell_type": "code",
      "execution_count": 1,
      "metadata": {
        "colab": {
          "base_uri": "https://localhost:8080/"
        },
        "id": "AXzL4boTOUsT",
        "outputId": "012c575e-78e5-4914-dff3-8a3be244986c"
      },
      "outputs": [
        {
          "output_type": "stream",
          "name": "stdout",
          "text": [
            "Writing study_agent.py\n"
          ]
        }
      ],
      "source": [
        "%%writefile study_agent.py\n",
        "# -*- coding: utf-8 -*-\n",
        "# Agente de Estudos Interativo\n",
        "\n",
        "from dataclasses import dataclass        # <- corrigido: dataclasses\n",
        "from typing import Dict, Protocol\n",
        "import random\n",
        "\n",
        "class Tool(Protocol):\n",
        "    name: str\n",
        "    def execute(self, input_text: str) -> str: ...\n",
        "\n",
        "@dataclass\n",
        "class TimerTool:\n",
        "    name: str = \"timer\"\n",
        "    def execute(self, input_text: str) -> str:\n",
        "        return f\"[TIMER] Iniciando foco de 25 minutos para: {input_text}\\nDica: use o cronômetro.\"\n",
        "\n",
        "@dataclass\n",
        "class QuizTool:\n",
        "    name: str = \"quiz\"\n",
        "    def execute(self, input_text: str) -> str:\n",
        "        n1, n2 = random.randint(5,10), random.randint(10,15)\n",
        "        return (f\"[QUIZ] Crie um algoritmo que leia dois vetores A({n1}) e B({n2}) \"\n",
        "                \"e exiba os elementos NÃO repetidos (sem usar Set/HashSet).\")\n",
        "\n",
        "@dataclass\n",
        "class LinkTool:\n",
        "    name: str = \"link\"\n",
        "    def execute(self, input_text: str) -> str:\n",
        "        tema = input_text.lower()\n",
        "        if \"vetor\" in tema: return \"[LINK] https://exemplo.edu/vetores\"\n",
        "        if \"poo\" in tema:   return \"[LINK] https://exemplo.edu/poo\"\n",
        "        return \"[LINK] https://exemplo.edu/\"\n",
        "\n",
        "@dataclass\n",
        "class ExplainTool:\n",
        "    name: str = \"explain\"\n",
        "    glossario: Dict[str,str] = None\n",
        "    def __post_init__(self):\n",
        "        if self.glossario is None:\n",
        "            self.glossario = {\n",
        "                \"vetor\": \"Sequência de elementos acessados por índice.\",\n",
        "                \"poo\": \"Paradigma orientado a objetos.\",\n",
        "                \"pomodoro\": \"Técnica de estudo em blocos de 25min + pausa.\"\n",
        "            }\n",
        "    def execute(self, input_text: str) -> str:\n",
        "        for k,v in self.glossario.items():\n",
        "            if k in input_text.lower():\n",
        "                return f\"[EXPLAIN] {k}: {v}\"\n",
        "        return \"[EXPLAIN] Tema não encontrado.\"\n",
        "\n",
        "@dataclass\n",
        "class StudyAgent:\n",
        "    tools: Dict[str, Tool]\n",
        "    def __init__(self):\n",
        "        self.tools = {\"timer\": TimerTool(), \"quiz\": QuizTool(), \"link\": LinkTool(), \"explain\": ExplainTool()}\n",
        "    def perceive(self, msg:str)->str: return msg.strip().lower()\n",
        "    def decide(self, text:str)->str:\n",
        "        if \"pomodoro\" in text or \"foco\" in text: return \"timer\"\n",
        "        if \"quiz\" in text or \"exercício\" in text or \"exercicio\" in text: return \"quiz\"\n",
        "        if \"link\" in text or \"material\" in text or \"teoria\" in text: return \"link\"\n",
        "        if \"o que é\" in text or \"o que e\" in text or \"explique\" in text: return \"explain\"\n",
        "        if \"vetor\" in text or \"vetores\" in text: return \"quiz+link\"\n",
        "        return \"desconhecido\"\n",
        "    def act(self, msg:str)->str:\n",
        "        t = self.perceive(msg); intent = self.decide(t)\n",
        "        if intent==\"timer\": return self.tools[\"timer\"].execute(msg)\n",
        "        if intent==\"quiz\": return self.tools[\"quiz\"].execute(msg)\n",
        "        if intent==\"link\": return self.tools[\"link\"].execute(msg)\n",
        "        if intent==\"explain\": return self.tools[\"explain\"].execute(msg)\n",
        "        if intent==\"quiz+link\":\n",
        "            return self.tools[\"quiz\"].execute(msg)+\"\\n\"+self.tools[\"link\"].execute(msg)\n",
        "        return \"Não entendi.\"\n"
      ]
    },
    {
      "cell_type": "code",
      "source": [
        "from study_agent import StudyAgent\n",
        "\n",
        "agent = StudyAgent()\n",
        "print(\"=== Agente de Estudos (interativo) ===\")\n",
        "print(\"Digite 'sair' para encerrar.\\n\")\n",
        "\n",
        "while True:\n",
        "    msg = input(\"Você: \")\n",
        "    if msg.strip().lower() == \"sair\":\n",
        "        print(\"Agente: Até logo! 👋\")\n",
        "        break\n",
        "    print(\"Agente:\", agent.act(msg), \"\\n\")\n"
      ],
      "metadata": {
        "colab": {
          "base_uri": "https://localhost:8080/",
          "height": 442
        },
        "id": "xox-JRNqPh6n",
        "outputId": "5fbd0337-c793-4231-962e-b3c52405df51"
      },
      "execution_count": 2,
      "outputs": [
        {
          "output_type": "stream",
          "name": "stdout",
          "text": [
            "=== Agente de Estudos (interativo) ===\n",
            "Digite 'sair' para encerrar.\n",
            "\n"
          ]
        },
        {
          "output_type": "error",
          "ename": "KeyboardInterrupt",
          "evalue": "Interrupted by user",
          "traceback": [
            "\u001b[0;31m---------------------------------------------------------------------------\u001b[0m",
            "\u001b[0;31mKeyboardInterrupt\u001b[0m                         Traceback (most recent call last)",
            "\u001b[0;32m/tmp/ipython-input-2153739859.py\u001b[0m in \u001b[0;36m<cell line: 0>\u001b[0;34m()\u001b[0m\n\u001b[1;32m      6\u001b[0m \u001b[0;34m\u001b[0m\u001b[0m\n\u001b[1;32m      7\u001b[0m \u001b[0;32mwhile\u001b[0m \u001b[0;32mTrue\u001b[0m\u001b[0;34m:\u001b[0m\u001b[0;34m\u001b[0m\u001b[0;34m\u001b[0m\u001b[0m\n\u001b[0;32m----> 8\u001b[0;31m     \u001b[0mmsg\u001b[0m \u001b[0;34m=\u001b[0m \u001b[0minput\u001b[0m\u001b[0;34m(\u001b[0m\u001b[0;34m\"Você: \"\u001b[0m\u001b[0;34m)\u001b[0m\u001b[0;34m\u001b[0m\u001b[0;34m\u001b[0m\u001b[0m\n\u001b[0m\u001b[1;32m      9\u001b[0m     \u001b[0;32mif\u001b[0m \u001b[0mmsg\u001b[0m\u001b[0;34m.\u001b[0m\u001b[0mstrip\u001b[0m\u001b[0;34m(\u001b[0m\u001b[0;34m)\u001b[0m\u001b[0;34m.\u001b[0m\u001b[0mlower\u001b[0m\u001b[0;34m(\u001b[0m\u001b[0;34m)\u001b[0m \u001b[0;34m==\u001b[0m \u001b[0;34m\"sair\"\u001b[0m\u001b[0;34m:\u001b[0m\u001b[0;34m\u001b[0m\u001b[0;34m\u001b[0m\u001b[0m\n\u001b[1;32m     10\u001b[0m         \u001b[0mprint\u001b[0m\u001b[0;34m(\u001b[0m\u001b[0;34m\"Agente: Até logo! 👋\"\u001b[0m\u001b[0;34m)\u001b[0m\u001b[0;34m\u001b[0m\u001b[0;34m\u001b[0m\u001b[0m\n",
            "\u001b[0;32m/usr/local/lib/python3.12/dist-packages/ipykernel/kernelbase.py\u001b[0m in \u001b[0;36mraw_input\u001b[0;34m(self, prompt)\u001b[0m\n\u001b[1;32m   1175\u001b[0m                 \u001b[0;34m\"raw_input was called, but this frontend does not support input requests.\"\u001b[0m\u001b[0;34m\u001b[0m\u001b[0;34m\u001b[0m\u001b[0m\n\u001b[1;32m   1176\u001b[0m             )\n\u001b[0;32m-> 1177\u001b[0;31m         return self._input_request(\n\u001b[0m\u001b[1;32m   1178\u001b[0m             \u001b[0mstr\u001b[0m\u001b[0;34m(\u001b[0m\u001b[0mprompt\u001b[0m\u001b[0;34m)\u001b[0m\u001b[0;34m,\u001b[0m\u001b[0;34m\u001b[0m\u001b[0;34m\u001b[0m\u001b[0m\n\u001b[1;32m   1179\u001b[0m             \u001b[0mself\u001b[0m\u001b[0;34m.\u001b[0m\u001b[0m_parent_ident\u001b[0m\u001b[0;34m[\u001b[0m\u001b[0;34m\"shell\"\u001b[0m\u001b[0;34m]\u001b[0m\u001b[0;34m,\u001b[0m\u001b[0;34m\u001b[0m\u001b[0;34m\u001b[0m\u001b[0m\n",
            "\u001b[0;32m/usr/local/lib/python3.12/dist-packages/ipykernel/kernelbase.py\u001b[0m in \u001b[0;36m_input_request\u001b[0;34m(self, prompt, ident, parent, password)\u001b[0m\n\u001b[1;32m   1217\u001b[0m             \u001b[0;32mexcept\u001b[0m \u001b[0mKeyboardInterrupt\u001b[0m\u001b[0;34m:\u001b[0m\u001b[0;34m\u001b[0m\u001b[0;34m\u001b[0m\u001b[0m\n\u001b[1;32m   1218\u001b[0m                 \u001b[0;31m# re-raise KeyboardInterrupt, to truncate traceback\u001b[0m\u001b[0;34m\u001b[0m\u001b[0;34m\u001b[0m\u001b[0m\n\u001b[0;32m-> 1219\u001b[0;31m                 \u001b[0;32mraise\u001b[0m \u001b[0mKeyboardInterrupt\u001b[0m\u001b[0;34m(\u001b[0m\u001b[0;34m\"Interrupted by user\"\u001b[0m\u001b[0;34m)\u001b[0m \u001b[0;32mfrom\u001b[0m \u001b[0;32mNone\u001b[0m\u001b[0;34m\u001b[0m\u001b[0;34m\u001b[0m\u001b[0m\n\u001b[0m\u001b[1;32m   1220\u001b[0m             \u001b[0;32mexcept\u001b[0m \u001b[0mException\u001b[0m\u001b[0;34m:\u001b[0m\u001b[0;34m\u001b[0m\u001b[0;34m\u001b[0m\u001b[0m\n\u001b[1;32m   1221\u001b[0m                 \u001b[0mself\u001b[0m\u001b[0;34m.\u001b[0m\u001b[0mlog\u001b[0m\u001b[0;34m.\u001b[0m\u001b[0mwarning\u001b[0m\u001b[0;34m(\u001b[0m\u001b[0;34m\"Invalid Message:\"\u001b[0m\u001b[0;34m,\u001b[0m \u001b[0mexc_info\u001b[0m\u001b[0;34m=\u001b[0m\u001b[0;32mTrue\u001b[0m\u001b[0;34m)\u001b[0m\u001b[0;34m\u001b[0m\u001b[0;34m\u001b[0m\u001b[0m\n",
            "\u001b[0;31mKeyboardInterrupt\u001b[0m: Interrupted by user"
          ]
        }
      ]
    },
    {
      "cell_type": "code",
      "source": [
        "from study_agent import StudyAgent\n",
        "\n",
        "agent = StudyAgent()\n",
        "historico = []   # lista para guardar as interações\n",
        "\n",
        "print(\"=== Agente de Estudos (interativo) ===\")\n",
        "print(\"Digite 'sair' para encerrar.\\n\")\n",
        "\n",
        "while True:\n",
        "    msg = input(\"Você: \")\n",
        "    if msg.strip().lower() == \"sair\":\n",
        "        print(\"Agente: Até logo! 👋\")\n",
        "        break\n",
        "\n",
        "    resposta = agent.act(msg)\n",
        "    print(\"Agente:\", resposta, \"\\n\")\n",
        "\n",
        "    # salva no histórico\n",
        "    historico.append({\"usuario\": msg, \"agente\": resposta})\n",
        "\n",
        "# --- relatório ao final ---\n",
        "print(\"\\n📑 Relatório da Sessão:\")\n",
        "for i, troca in enumerate(historico, start=1):\n",
        "    print(f\"{i}. Você: {troca['usuario']}\")\n",
        "    print(f\"   Agente: {troca['agente']}\\n\")"
      ],
      "metadata": {
        "id": "0j-YqRcsLfzm"
      },
      "execution_count": null,
      "outputs": []
    },
    {
      "cell_type": "code",
      "source": [
        "from study_agent import StudyAgent\n",
        "from datetime import datetime\n",
        "import csv\n",
        "\n",
        "agent = StudyAgent()\n",
        "historico = []\n",
        "\n",
        "print(\"=== Agente de Estudos (interativo) ===\")\n",
        "print(\"Digite 'sair' para encerrar.\\n\")\n",
        "\n",
        "while True:\n",
        "    try:\n",
        "        msg = input(\"Você: \")\n",
        "    except EOFError:\n",
        "        # Colab às vezes lança EOF ao parar a célula\n",
        "        break\n",
        "\n",
        "    if msg.strip().lower() == \"sair\":\n",
        "        print(\"Agente: Até logo! 👋\")\n",
        "        break\n",
        "\n",
        "    resposta = agent.act(msg)\n",
        "    print(\"Agente:\", resposta, \"\\n\")\n",
        "\n",
        "    # Guarda no histórico\n",
        "    historico.append({\"usuario\": msg, \"agente\": resposta})\n",
        "\n",
        "# ----- Salvar relatório ao final -----\n",
        "ts = datetime.now().strftime(\"%Y%m%d-%H%M%S\")\n",
        "txt_path = f\"relatorio_sessao_{ts}.txt\"\n",
        "csv_path = f\"relatorio_sessao_{ts}.csv\"\n",
        "\n",
        "# TXT\n",
        "with open(txt_path, \"w\", encoding=\"utf-8\") as f:\n",
        "    f.write(\"📑 Relatório da Sessão (Agente de Estudos)\\n\\n\")\n",
        "    for i, troca in enumerate(historico, start=1):\n",
        "        f.write(f\"{i}. Você: {troca['usuario']}\\n\")\n",
        "        f.write(f\"   Agente: {troca['agente']}\\n\\n\")\n",
        "\n",
        "# CSV\n",
        "with open(csv_path, \"w\", encoding=\"utf-8\", newline=\"\") as f:\n",
        "    w = csv.writer(f)\n",
        "    w.writerow([\"turno\", \"usuario\", \"agente\"])\n",
        "    for i, troca in enumerate(historico, start=1):\n",
        "        w.writerow([i, troca[\"usuario\"], troca[\"agente\"]])\n",
        "\n",
        "print(f\"\\nArquivos salvos: {txt_path} e {csv_path}\")\n",
        "\n",
        "\n",
        "from google.colab import files\n",
        "\n",
        "# ... (código do agente e histórico) ...\n",
        "\n",
        "print(f\"\\nArquivos salvos: {txt_path} e {csv_path}\")\n",
        "\n",
        "# baixar automaticamente\n",
        "files.download(txt_path)\n",
        "files.download(csv_path)"
      ],
      "metadata": {
        "id": "WiAZXhNjLrnO"
      },
      "execution_count": null,
      "outputs": []
    }
  ]
}